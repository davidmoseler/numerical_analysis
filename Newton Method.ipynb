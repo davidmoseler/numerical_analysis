{
 "cells": [
  {
   "cell_type": "code",
   "execution_count": 1,
   "metadata": {},
   "outputs": [],
   "source": [
    "import numpy as np\n",
    "import matplotlib.pyplot as plt\n",
    "import seaborn as sns\n",
    "\n",
    "sns.set()"
   ]
  },
  {
   "cell_type": "markdown",
   "metadata": {},
   "source": [
    "We define a function $ f(x) = 2 - x + ln(x) $, whose roots we ought to find. The approximate values of the roots can be infered from the graph below."
   ]
  },
  {
   "cell_type": "code",
   "execution_count": 2,
   "metadata": {},
   "outputs": [
    {
     "data": {
      "text/plain": [
       "[<matplotlib.lines.Line2D at 0x7f76c81ec2e8>]"
      ]
     },
     "execution_count": 2,
     "metadata": {},
     "output_type": "execute_result"
    },
    {
     "data": {
      "image/png": "[encoded data removed]",
      "text/plain": [
       "<Figure size 432x288 with 1 Axes>"
      ]
     },
     "metadata": {},
     "output_type": "display_data"
    }
   ],
   "source": [
    "def f(x):\n",
    "    return (2 - x + np.log(x))\n",
    "\n",
    "def fprime(x):\n",
    "    return 1/x - 1\n",
    "\n",
    "x = np.linspace(0.1,5,100)\n",
    "y = f(x)\n",
    "plt.axhline()\n",
    "plt.plot(x,y,color='r')"
   ]
  },
  {
   "cell_type": "markdown",
   "metadata": {},
   "source": [
    "The following function is drawn on the idea of fixed point methods:\n",
    "\n",
    "If we want a solution to an equation of the form $ g(x) = x $, that is, if we want to find a fixed point of $ g $, we may lay down the following iterative method:\n",
    "\n",
    "$$ g(x_{n-1}) = x_n $$\n",
    "\n",
    "The hope is that it converges, $ \\lim_{x \\to \\infty} x_n = x $. If it does, then the limit is necessarily a fixed point, as long as g is continuous, because\n",
    "\n",
    "$$ x = \\lim_{x \\to \\infty} x_n = \\lim_{x \\to \\infty} f(x_{n-1}) = f( \\lim_{x \\to \\infty} x_{n-1}) = f(x) $$\n",
    "\n",
    "So, convergence of fixed point methods is a powerfull idea: if there are theoretical guaranties for convergence, these are theoretical guaranties for convergence to a fixed point.\n",
    "\n",
    "When trying to solve an equation of the form $ f(x) = 0 $, it is then useful to recast it into a fixed point format. Below, we try the following:\n",
    "\n",
    "$$ g(x) = f(x) + x $$\n",
    "\n",
    "so that $ g(x) = x \\iff f(x) = 0 $."
   ]
  },
  {
   "cell_type": "code",
   "execution_count": 3,
   "metadata": {},
   "outputs": [],
   "source": [
    "def find_root(f, n_iter=50, x_init=1):\n",
    "    x = x_init\n",
    "    for _ in range(n_iter):\n",
    "        x = f(x) + x\n",
    "        if np.abs(f(x)) < 1e-8:\n",
    "            break\n",
    "    return x"
   ]
  },
  {
   "cell_type": "code",
   "execution_count": 4,
   "metadata": {},
   "outputs": [
    {
     "data": {
      "text/plain": [
       "3.146193215112132"
      ]
     },
     "execution_count": 4,
     "metadata": {},
     "output_type": "execute_result"
    }
   ],
   "source": [
    "find_root(f)"
   ]
  },
  {
   "cell_type": "markdown",
   "metadata": {},
   "source": [
    "It finds the rightmost root, even though we started closest to the left one. Let's try starting from the left:"
   ]
  },
  {
   "cell_type": "code",
   "execution_count": 5,
   "metadata": {},
   "outputs": [
    {
     "name": "stderr",
     "output_type": "stream",
     "text": [
      "/home/db/anaconda3/lib/python3.6/site-packages/ipykernel_launcher.py:2: RuntimeWarning: invalid value encountered in log\n",
      "  \n"
     ]
    },
    {
     "data": {
      "text/plain": [
       "nan"
      ]
     },
     "execution_count": 5,
     "metadata": {},
     "output_type": "execute_result"
    }
   ],
   "source": [
    "#Logaritmo de negativo\n",
    "\n",
    "find_root(f, x_init=0.1)"
   ]
  },
  {
   "cell_type": "markdown",
   "metadata": {},
   "source": [
    "The nan comes from the fact that x becomes negative through the iterative process (as the error message indicates). This means our scheme does not even necessarily walk in the right direction. How could we know which is the right direction, left or right? Looking only to the value of the function at the current point is certainly not enough. To gain more information, therefore, we should at least look at the first derivative."
   ]
  },
  {
   "cell_type": "markdown",
   "metadata": {},
   "source": [
    "But, first, let's try another iterative scheme. We make it trying to \"solve\" 2 - x + ln(x) = 0 for the x inside of the logarithm: that is, we write: $ x = exp(x-2) $, and make\n",
    "\n",
    "$ x_n = exp(x_{n-1} - 2) $.\n",
    "\n",
    "This corresponds to a fixed point method with $ g(x) = exp(ln(x) - f(x)) $. Of course it does not make so much sense for a general f. But it will work in practice:"
   ]
  },
  {
   "cell_type": "code",
   "execution_count": 6,
   "metadata": {},
   "outputs": [],
   "source": [
    "def find_root(f, n_iter=50, x_init=1):\n",
    "    x = x_init\n",
    "    x_seq = []\n",
    "    f_seq = []\n",
    "    for _ in range(n_iter):\n",
    "        x = np.exp(np.log(x) - f(x))\n",
    "        x_seq.append(x)\n",
    "        f_seq.append(f(x))\n",
    "        if np.abs(f(x)) < 1e-8:\n",
    "            break\n",
    "    return x, x_seq, f_seq"
   ]
  },
  {
   "cell_type": "code",
   "execution_count": 7,
   "metadata": {},
   "outputs": [],
   "source": [
    "x, x_seq, f_seq = find_root(f)"
   ]
  },
  {
   "cell_type": "markdown",
   "metadata": {},
   "source": [
    "It won't work for $ f(x) = x^2 - 2 $:"
   ]
  },
  {
   "cell_type": "code",
   "execution_count": 8,
   "metadata": {},
   "outputs": [
    {
     "data": {
      "text/plain": [
       "0.20413259596905037"
      ]
     },
     "execution_count": 8,
     "metadata": {},
     "output_type": "execute_result"
    }
   ],
   "source": [
    "def f_(x):\n",
    "    return x**2 - 2\n",
    "\n",
    "x, _, _ = find_root(f_, n_iter=100)\n",
    "x"
   ]
  },
  {
   "cell_type": "markdown",
   "metadata": {},
   "source": [
    "Above, we returned the sequence of values of x and f through the iterations. With this, we might plot the value of $ |x_n-x| / |x_{n-1} - x| $. We see it has a reasonable upper bound, which we call $ M $. Then:\n",
    "\n",
    "$$ |x_n-x| \\leq M |x_{n-1} - x| $$\n",
    "\n",
    "That is, the method converges linearly."
   ]
  },
  {
   "cell_type": "code",
   "execution_count": 9,
   "metadata": {},
   "outputs": [
    {
     "data": {
      "text/plain": [
       "[<matplotlib.lines.Line2D at 0x7f76c4626630>]"
      ]
     },
     "execution_count": 9,
     "metadata": {},
     "output_type": "execute_result"
    },
    {
     "data": {
      "image/png": "[encoded data removed]",
      "text/plain": [
       "<Figure size 432x288 with 1 Axes>"
      ]
     },
     "metadata": {},
     "output_type": "display_data"
    }
   ],
   "source": [
    "plt.plot(np.array(x_seq[1:]-x)/np.array(x_seq[:-1]-x))"
   ]
  },
  {
   "cell_type": "markdown",
   "metadata": {},
   "source": [
    "But it does not reasonably follow a quadratic convergence:"
   ]
  },
  {
   "cell_type": "code",
   "execution_count": 10,
   "metadata": {},
   "outputs": [
    {
     "data": {
      "text/plain": [
       "[<matplotlib.lines.Line2D at 0x7f76c457cb70>]"
      ]
     },
     "execution_count": 10,
     "metadata": {},
     "output_type": "execute_result"
    },
    {
     "data": {
      "image/png": "[encoded data removed]",
      "text/plain": [
       "<Figure size 432x288 with 1 Axes>"
      ]
     },
     "metadata": {},
     "output_type": "display_data"
    }
   ],
   "source": [
    "plt.plot(np.array(x_seq[1:]-x)/np.array(x_seq[:-1]-x)**2)"
   ]
  },
  {
   "cell_type": "markdown",
   "metadata": {},
   "source": [
    "We have given reason enough to develop a better fixed point method. As we argued, we might use the first derivative in order to indicate us the direction of change. It could, at the same time, indicate us the amount of change, because, if the function is well approximated by the first terms of a Taylor expansion, then\n",
    "\n",
    "$$ f(x+\\delta x) \\sim f(x) + f'(x) \\delta x $$\n",
    "\n",
    "So, if we want $ f(x+\\delta x) \\sim 0 $, we might try:\n",
    "\n",
    "$$ \\delta x \\sim \\frac{-f(x)}{f'(x)} $$\n",
    "\n",
    "This leads us to the iterative scheme:\n",
    "\n",
    "$$ x_n = x_{n-1} - \\frac{f(x_{n-1})}{f'(x_{n-1})} $$\n",
    "\n",
    "Theory gives some guaranties to this method, for well behaved functions $ f $ and for good starting points. If, aditionally, $ f'(x) = 0 $ at the solution x, then the method will converge quadratically."
   ]
  },
  {
   "cell_type": "code",
   "execution_count": 11,
   "metadata": {},
   "outputs": [],
   "source": [
    "def newton_method(f, fprime, n_iter=50, x_init=1):\n",
    "    x = x_init\n",
    "    x_seq = []\n",
    "    f_seq = []\n",
    "    for _ in range(n_iter):\n",
    "        x = x - f(x)/fprime(x)\n",
    "        x_seq.append(x)\n",
    "        f_seq.append(f(x))\n",
    "        if np.abs(f(x)) < 1e-8:\n",
    "            break\n",
    "    return x, x_seq, f_seq"
   ]
  },
  {
   "cell_type": "code",
   "execution_count": 12,
   "metadata": {},
   "outputs": [
    {
     "data": {
      "text/plain": [
       "0.15859433954808164"
      ]
     },
     "execution_count": 12,
     "metadata": {},
     "output_type": "execute_result"
    }
   ],
   "source": [
    "x, x_seq, f_seq = newton_method(f, fprime, x_init=0.1)\n",
    "x"
   ]
  },
  {
   "cell_type": "markdown",
   "metadata": {},
   "source": [
    "The convergence is now quadratic:"
   ]
  },
  {
   "cell_type": "code",
   "execution_count": 13,
   "metadata": {},
   "outputs": [
    {
     "data": {
      "text/plain": [
       "[<matplotlib.lines.Line2D at 0x7f76c455d390>]"
      ]
     },
     "execution_count": 13,
     "metadata": {},
     "output_type": "execute_result"
    },
    {
     "data": {
      "image/png": "[encoded data removed]",
      "text/plain": [
       "<Figure size 432x288 with 1 Axes>"
      ]
     },
     "metadata": {},
     "output_type": "display_data"
    }
   ],
   "source": [
    "plt.plot(np.abs(np.array(x_seq[1:]-x))/np.abs(np.array(x_seq[:-1]-x)**2))"
   ]
  },
  {
   "cell_type": "markdown",
   "metadata": {},
   "source": [
    "Instead of providing the explicit form of the derivative f, we might use numerical differentiation. One option is to use pytorch's autodiferentiation functionalities:"
   ]
  },
  {
   "cell_type": "code",
   "execution_count": 14,
   "metadata": {},
   "outputs": [],
   "source": [
    "import torch\n",
    "from torch.autograd import Variable\n",
    "\n",
    "#Redefine f using pytorch's computations:\n",
    "def f(x):\n",
    "    return 2 - x + torch.log(x)\n",
    "\n",
    "def newton_method(f, n_iter=50, x_init=1.0):\n",
    "    x = Variable(torch.tensor(x_init), requires_grad=True)\n",
    "    x.cuda()\n",
    "    for _ in range(n_iter):\n",
    "        x = x.clone().detach().requires_grad_(True)\n",
    "        y = f(x)\n",
    "        #We \"backward propagate\" the gradient of y, that is just f(x),\n",
    "        # and collect it back at x, using x.grad. This gives us the\n",
    "        # derivative of f at x, which we can use to define the\n",
    "        # iteration.\n",
    "        y.backward()\n",
    "        x = x - y/x.grad\n",
    "        if torch.abs(y) < 1e-8:\n",
    "            break\n",
    "    return x"
   ]
  },
  {
   "cell_type": "markdown",
   "metadata": {},
   "source": [
    "And we have again the correct answer:"
   ]
  },
  {
   "cell_type": "code",
   "execution_count": 16,
   "metadata": {},
   "outputs": [
    {
     "data": {
      "text/plain": [
       "tensor(0.1586, grad_fn=<SubBackward0>)"
      ]
     },
     "execution_count": 16,
     "metadata": {},
     "output_type": "execute_result"
    }
   ],
   "source": [
    "newton_method(f, x_init=0.1)"
   ]
  }
 ],
 "metadata": {
  "kernelspec": {
   "display_name": "Python 3",
   "language": "python",
   "name": "python3"
  },
  "language_info": {
   "codemirror_mode": {
    "name": "ipython",
    "version": 3
   },
   "file_extension": ".py",
   "mimetype": "text/x-python",
   "name": "python",
   "nbconvert_exporter": "python",
   "pygments_lexer": "ipython3",
   "version": "3.6.5"
  }
 },
 "nbformat": 4,
 "nbformat_minor": 2
}
