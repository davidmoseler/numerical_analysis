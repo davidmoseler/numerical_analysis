{
 "cells": [
  {
   "cell_type": "code",
   "execution_count": 2,
   "metadata": {},
   "outputs": [],
   "source": [
    "import numpy as np\n",
    "import matplotlib.pyplot as plt"
   ]
  },
  {
   "cell_type": "code",
   "execution_count": null,
   "metadata": {},
   "outputs": [],
   "source": [
    "#A simple floating point system.\n",
    "# The base is 2. The mantissa varies in the set [1, 1.25, 1.5, 1.75]\n",
    "# and the exponent in [-2, -1, 0, 1, 2 or 3]. There is the negative correspondent\n",
    "# of each positive number and zero, too."
   ]
  },
  {
   "cell_type": "code",
   "execution_count": 6,
   "metadata": {},
   "outputs": [],
   "source": [
    "x = []\n",
    "\n",
    "for i in np.arange(1, 2, 0.25):\n",
    "    for j in np.arange(-2,4):\n",
    "        x.append(i*2.0**j)\n",
    "        \n",
    "y = [-f for f in x]\n",
    "x = x + y + [0]"
   ]
  },
  {
   "cell_type": "code",
   "execution_count": 21,
   "metadata": {},
   "outputs": [
    {
     "data": {
      "text/plain": [
       "<matplotlib.collections.PathCollection at 0x7f81758ea908>"
      ]
     },
     "execution_count": 21,
     "metadata": {},
     "output_type": "execute_result"
    },
    {
     "data": {
      "image/png": "[encoded data removed]",
      "text/plain": [
       "<Figure size 1440x144 with 1 Axes>"
      ]
     },
     "metadata": {},
     "output_type": "display_data"
    }
   ],
   "source": [
    "#Plot the possible number values. It resembles the figure for the IEEE system.\n",
    "\n",
    "plt.figure(figsize = (20,2))\n",
    "plt.scatter(x, [0]*len(x), marker='+', s=50)"
   ]
  }
 ],
 "metadata": {
  "kernelspec": {
   "display_name": "Python 3",
   "language": "python",
   "name": "python3"
  },
  "language_info": {
   "codemirror_mode": {
    "name": "ipython",
    "version": 3
   },
   "file_extension": ".py",
   "mimetype": "text/x-python",
   "name": "python",
   "nbconvert_exporter": "python",
   "pygments_lexer": "ipython3",
   "version": "3.6.5"
  }
 },
 "nbformat": 4,
 "nbformat_minor": 2
}
